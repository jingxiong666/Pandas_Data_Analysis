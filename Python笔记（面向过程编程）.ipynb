{
 "cells": [
  {
   "cell_type": "markdown",
   "id": "ee2c7652",
   "metadata": {},
   "source": [
    "# Python笔记（面向过程编程）"
   ]
  },
  {
   "cell_type": "markdown",
   "id": "3f623f2e",
   "metadata": {},
   "source": [
    "- `print(XXX + \"XXX\")`来达到组合输出的目的  \n",
    "- = 号，意为赋值  \n",
    "- python不可随便换行，读一行执行一行  \n",
    "- \\n  表示输出换行；如：`(\"Hello\" + \"\\n\" + \"World\" )`\n",
    "- `\"\"\"    \"\"\"/'''   '''`长篇换行  多行注释\n",
    "- ctrl +/ ：多行加#\n",
    "- \\ 为转译符，放在代码行后可用于转行  \n",
    "- 下划线命名法，适用于变量名`user_name, list_count`  \n",
    "变量不可有空格，不可数字开头，不可用引号，字母全部小写"
   ]
  },
  {
   "cell_type": "code",
   "execution_count": 1,
   "id": "f9fa053e",
   "metadata": {
    "scrolled": true
   },
   "outputs": [
    {
     "name": "stdout",
     "output_type": "stream",
     "text": [
      "你好，您吃了么\n"
     ]
    }
   ],
   "source": [
    "print(\"你好，\" + \"您吃了么\")"
   ]
  },
  {
   "cell_type": "code",
   "execution_count": 2,
   "id": "18338b82",
   "metadata": {},
   "outputs": [
    {
     "name": "stdout",
     "output_type": "stream",
     "text": [
      "您好，您吃了么\n"
     ]
    }
   ],
   "source": [
    "greet = \"您好\"\n",
    "print(greet + \"，您吃了么\")"
   ]
  },
  {
   "cell_type": "markdown",
   "id": "bfffc512",
   "metadata": {},
   "source": [
    " `len()`对字符串求长度，转义符`\\n`共占1个长度\n",
    " `\"Hello\"[]`，可提取索引中该位置的字符\n",
    "`s = \"I love you!\"`   \n",
    "`print(s[0])`通过索引[]获取单个字符，[]是从0开始计数的   \n",
    "`print(s[start: end: step])`索引获取某一段字符  \n",
    "    取前10位：s[0: 10]   \n",
    "`type()`函数，用于查询数据类型   \n",
    "`input()`获得互动输入值，该值永远为str型  \n",
    "- `字符串.upper()`将原有字符全部大写  \n",
    "- `字符串.title()`将各个字符的首字母大写\n",
    "- `字符串.lower()`全部小写"
   ]
  },
  {
   "cell_type": "markdown",
   "id": "24de0597",
   "metadata": {},
   "source": [
    "##### 格式化输出\n",
    "1. `字符串.strip()`删除两边空格\n",
    "2. `字符串.lstrip()`删除左边空格\n",
    "3. `字符串.rstrip()`删除右边空格\n",
    "4. `字符串.replace(\" \", \"\")`删除所有空格\n",
    "5. `字符串.split(),\"\".join()`先切分，再拼接"
   ]
  },
  {
   "cell_type": "markdown",
   "id": "8659f7f3",
   "metadata": {},
   "source": [
    "**标准数据类型**\n",
    "- （不可变类型）  \n",
    "1. Number  \n",
    "    int（整型）、float（浮点型）、bool（布尔型True|False）、conplex（复数）  \n",
    "2. str（字符串）\n",
    "3. Tuple（元组）：()  可放多个元素，但不可操作添加、删除元素等  \n",
    "\n",
    "- （可变类型）  \n",
    "4. List(列表)：[]  \n",
    "5. Dictionary（字典）:{}  \n",
    "6. Sets（集合）  \n",
    "7. None（空值） "
   ]
  },
  {
   "cell_type": "markdown",
   "id": "109f7569",
   "metadata": {},
   "source": [
    "- int(n, 16)--16进制转10进制\n",
    "- int(n, 2)--2进制转10进制"
   ]
  },
  {
   "cell_type": "markdown",
   "id": "ffc3c3c5",
   "metadata": {},
   "source": [
    "`if 条件:`      \n",
    "    `（True）结果`     \n",
    "`else:`      \n",
    "    `（False）结果`   "
   ]
  },
  {
   "cell_type": "markdown",
   "id": "d8dd132d",
   "metadata": {},
   "source": [
    "`if 条件:`  \n",
    "    `（True）结果`  \n",
    "`elif 条件:`  \n",
    "    `（True）结果`  \n",
    "`elif 条件:`  \n",
    "    `...`  \n",
    "`else:`  \n",
    "    `（False）结果`  "
   ]
  },
  {
   "cell_type": "markdown",
   "id": "af8de7c9",
   "metadata": {},
   "source": [
    "- 逻辑运算  and与   or或    not非  \n",
    "- 优先级   not > and > or   \n",
    "- 等于:  ==    \n",
    "- 不等于：  !=   \n",
    "\n",
    "- 加减乘除   + - * /  \n",
    "- 乘方   **    2**3\n",
    "- 取模（返回除法的余数）  %\n",
    "- // 表示：除完后再向下取整  \n",
    "    #如果一共有偶数个数字，取中间两个的平均值\n",
    "    例如：3/2结果为1.5，而3//2结果为1   \n",
    "- math库：`import math`\n",
    "        `math.log()`  \n",
    "- statistics模块：`import statistics`\n",
    "             `statistics.median()`"
   ]
  },
  {
   "cell_type": "markdown",
   "id": "d3bc6748",
   "metadata": {},
   "source": [
    "- input() 一律返回字符串 不可做数学运算  \n",
    "- input() 前加 Int/float() 函数 返回字符串变为整数/浮点数    \n",
    "str() 将返回值转化为字符串"
   ]
  },
  {
   "cell_type": "markdown",
   "id": "8dce999d",
   "metadata": {},
   "source": [
    "**列表：`list = []`**  \n",
    "- 列表中放入数据：`list = [\"鱼丸\",\"粗面\"]`  \n",
    "- 列表中加入数据：`list.append(\"不要鱼丸\")`  \n",
    "- 列表中删除数据：`list.remove(\"粗面\")`  \n",
    "- 计算列表长度：`len(list)`  \n",
    "- 修改某元素：`**_list[1] = \"章鱼丸\" `  \n",
    "- 取列表第几个值：`list[n]`  \n",
    "- 取列表最大值：`max(list)`  \n",
    "- 取列表最小值：`min(list)`  \n",
    "- 给列表排序（从小到大）：`sorted(list)`  \n",
    "- 列表求和：`sum(list)`   "
   ]
  },
  {
   "cell_type": "markdown",
   "id": "5fa99e69",
   "metadata": {},
   "source": [
    "**字典：**`dict = {键key:值value, key:value}`  (储存键值对，键用来查找值)  \n",
    "- 键的类型必须是不可变的`int\\float\\bool\\str\\tuple`  \n",
    "- 取字典中的值   `字典名[键名]`  \n",
    "- 键值为(元，组)时，可在键中放入多个信息  \n",
    "- `键名 in 字典名`：返回一个布尔值，告知键是否已经在字典里  \n",
    "- `del 字典名[键名]`：删除字典里的一个键和其对应的值  \n",
    "- `len(字典名)`：返回字典里有多少个键值对  \n",
    "- 字典里添加键值对：`字典名[键] = 值`  \n",
    "- `字典名.keys()`： 返回字典里所有的键  \n",
    "- `字典名.values()`：返回字典里所有的值  \n",
    "- `字典名.items()`： 返回字典里所有的键值对  "
   ]
  },
  {
   "cell_type": "markdown",
   "id": "c930068e",
   "metadata": {},
   "source": [
    "`range(x,y,z)`：表示整数数列  \n",
    "- x表示：起始值  \n",
    "- y表示：结束值（结束值不再序列范围内）  \n",
    "- z表示：步长，即每次跨几个数字，不指明默认为1  \n",
    "- range里只放一个值时，起始值默认为0  "
   ]
  },
  {
   "cell_type": "markdown",
   "id": "31e11616",
   "metadata": {},
   "source": [
    "`for 循环`：进行迭代  \n",
    "- 对象可以是：`list[]、dict{}、str\"\"、.......`  \n",
    "    \n",
    "- `for 变量名 in 可迭代对象:`  \n",
    "对每个变量做一些事情  \n",
    "    对每个变量做二些事情  \n",
    "    对....... \n",
    "    \n",
    "- 其中 变量名 自己取，代表迭代对象里的每个东西      \n",
    "- 若迭代对象为某列表，则变量名会被依次赋值为列表里面的每个元素  \n",
    "- 针对每个元素的操作，写在下方缩进的每一行  "
   ]
  },
  {
   "cell_type": "markdown",
   "id": "8fe89a74",
   "metadata": {},
   "source": [
    "`while循环可与 for 循环相互转换`\n",
    "- for循环：在有明确循环对象或次数时更方便\n",
    "- while循环：在循环次数位置是更方便\n",
    "- break可以强制终止循环"
   ]
  },
  {
   "cell_type": "markdown",
   "id": "7effca57",
   "metadata": {},
   "source": [
    "`while循环`：\n",
    "- while 条件A:(求值出来为布尔值都可以作为条件)（如果为true，执行下方缩进的内容，一直循环知道结果为false，结束循环）  \n",
    "        行动B  \n",
    "        行动.......\n",
    "        \n"
   ]
  },
  {
   "cell_type": "markdown",
   "id": "961170b3",
   "metadata": {},
   "source": [
    "**format 用法**   \n",
    "- {}表示会被替换的位置，里面的数字表示会被format里的第几个参数进行替换\n",
    "- 0为第一个参数，1为第二个参数\n",
    "- {} 也可以用关键词来指定进行替换的对象\n",
    "- `{1:.2f}`其中的`:.2f`表示制定浮点数在格式化时保留2位小数"
   ]
  },
  {
   "cell_type": "code",
   "execution_count": 3,
   "id": "d48ff0f2",
   "metadata": {
    "scrolled": true
   },
   "outputs": [
    {
     "name": "stdout",
     "output_type": "stream",
     "text": [
      "\n",
      "金虎贺岁，\n",
      "金虎敲门\n",
      "给老幺及家人拜年\n",
      "虎年大吉\n",
      "\n"
     ]
    }
   ],
   "source": [
    "year = \"虎\"\n",
    "name = \"老幺\"\n",
    "message_content = \"\"\"\n",
    "金{0}贺岁，\n",
    "金{0}敲门\n",
    "给{1}及家人拜年\n",
    "{0}年大吉\n",
    "\"\"\".format(year, name)\n",
    "print(message_content)"
   ]
  },
  {
   "cell_type": "code",
   "execution_count": 1,
   "id": "3291d4f3",
   "metadata": {},
   "outputs": [
    {
     "name": "stdout",
     "output_type": "stream",
     "text": [
      "\n",
      "金虎贺岁，\n",
      "金虎敲门\n",
      "给老姚及家人拜年\n",
      "虎年大吉\n",
      "\n"
     ]
    }
   ],
   "source": [
    "message_content = \"\"\"\n",
    "金{year}贺岁，\n",
    "金{year}敲门\n",
    "给{name}及家人拜年\n",
    "{year}年大吉\n",
    "\"\"\".format(year = \"虎\", name = \"老姚\")\n",
    "print(message_content)"
   ]
  },
  {
   "cell_type": "markdown",
   "id": "917f430c",
   "metadata": {},
   "source": [
    "**f-字符串**\n",
    "- 字符串前加前缀`f\"字符串{},字符串{}，字符{}串\"`   \n",
    "- {}里的内容会被直接求值，添加到字符串内   \n",
    "- `{gpa:.2f}`其中的`:.2f`表示制定浮点数在格式化时保留2位小数 "
   ]
  },
  {
   "cell_type": "code",
   "execution_count": 1,
   "id": "ec6a52cc",
   "metadata": {},
   "outputs": [
    {
     "name": "stdout",
     "output_type": "stream",
     "text": [
      "小明你好，你当前的绩点为：36.42\n",
      "小花你好，你当前的绩点为：36.61\n",
      "小李你好，你当前的绩点为：36.22\n",
      "小张你好，你当前的绩点为：38.23\n"
     ]
    }
   ],
   "source": [
    "gpa_dict = {\"小明\":36.425,\n",
    "            \"小花\":36.611,\n",
    "            \"小李\":36.223,\n",
    "            \"小张\":38.227}\n",
    "for name, gpa in gpa_dict.items():\n",
    "    print(\"{0}你好，你当前的绩点为：{1:.2f}\".format(name, gpa))"
   ]
  },
  {
   "cell_type": "code",
   "execution_count": 4,
   "id": "f885f61a",
   "metadata": {},
   "outputs": [
    {
     "name": "stdout",
     "output_type": "stream",
     "text": [
      "小明你好，你的当前绩点为：36.42\n",
      "小花你好，你的当前绩点为：36.61\n",
      "小李你好，你的当前绩点为：36.22\n",
      "小张你好，你的当前绩点为：38.23\n"
     ]
    }
   ],
   "source": [
    "for name, gpa in gpa_dict.items():\n",
    "    print(f\"{name}你好，你的当前绩点为：{gpa:.2f}\")"
   ]
  },
  {
   "cell_type": "code",
   "execution_count": 4,
   "id": "c5a9bf1d",
   "metadata": {},
   "outputs": [
    {
     "name": "stdout",
     "output_type": "stream",
     "text": [
      "\n",
      "金虎贺岁，\n",
      "金虎敲门\n",
      "给老幺及家人拜年\n",
      "虎年大吉\n",
      "\n"
     ]
    }
   ],
   "source": [
    "year = \"虎\"\n",
    "name = \"老幺\"\n",
    "message_content = f\"\"\"\n",
    "金{year}贺岁，\n",
    "金{year}敲门\n",
    "给{name}及家人拜年\n",
    "{year}年大吉\n",
    "\"\"\"\n",
    "print(message_content)"
   ]
  },
  {
   "cell_type": "markdown",
   "id": "ca958e35",
   "metadata": {},
   "source": [
    "### 小数输出\n",
    "控制浮点数输出的位数有三种方法\n",
    "1. 使用round函数\n",
    "2. 利用`\"%.nf\"%字段`输出n位小数  \n",
    "3. 使用format或f\"\"格式化数字输出"
   ]
  },
  {
   "cell_type": "markdown",
   "id": "2c918ad8",
   "metadata": {},
   "source": [
    "#### round函数\n",
    "使用方法： round(number, digits)  \n",
    "1. digits>0，四舍五入到指定的小数位\n",
    "2. digits=0, 四舍五入到最接近的整数\n",
    "3. digits<0 ，在小数点左侧进行四舍五入\n",
    "4. 如果round()函数只有number这个参数，等同于digits=0  \n",
    "\n",
    "四舍五入规则：  \n",
    "\n",
    "1. 要求保留位数的后一位<=4，则舍去3，如5.214保留小数点后两位，结果是5.21\n",
    "2. 要求保留位数的后一位“=5”，且该位数后面没有数字，则不进位，如5.215，结果为5.21\n",
    "3. 要求保留位数的最后一位“=5”，且该位数后面有数字，则进位，如5.2151，结果为5.22\n",
    "4. 要求保留位数的最后一位“>=6”，则进位。如5.216，结果为5.22"
   ]
  },
  {
   "cell_type": "markdown",
   "id": "87942609",
   "metadata": {},
   "source": [
    "**定义函数**   \n",
    "- def 关键词():     \n",
    "    接下来是一些定义函数的代码     \n",
    "    return 返回函数值           \n",
    "- 关键词自己编(XXX, XXX, XXX)\n",
    "- 局部变量，只被定义在函数里面，因此需要用到return\n",
    "- return 写在函数最后一行，后跟想要返回的东西，可让函数完成调用后返回return后的东西，即可在函数之外继续用该东西的机会。\n",
    "- 若没有return语句，函数返回值默认为None\n",
    "    "
   ]
  },
  {
   "cell_type": "markdown",
   "id": "dc3e744b",
   "metadata": {},
   "source": [
    "**引入模块**\n",
    "1. imort 语句\n",
    "    imort 模块名字   用于引入模块\n",
    "- 后续引用   \n",
    "`模块名字.函数名字`用于引用某模块中的某函数\n",
    "2. `from...imort...语句`\n",
    "- `from 模块名 imort 多个函数名,函数名,函数名`\n",
    "- 后续引用  \n",
    "仅输入函数名即可\n",
    "3. `from 模块名 imort*`  \n",
    "- 后续引用\n",
    "仅输入函数名即可  \n",
    "但模块里所有函数或变量都会被引入，不推荐，如果是同时引入不同模块时有同名函数，会有冲突。    \n",
    "4. 引用模块.函数后可以按住ctrl点击函数名查看函数源代码    \n",
    "- 引入python内置模块可免安装，但引入第三方库模块需先下载\n",
    "- 安装：在终端输入\"pip install 库的名字\"。安装成功后在用import 引入模块"
   ]
  },
  {
   "cell_type": "markdown",
   "id": "04b8a1a6",
   "metadata": {},
   "source": [
    "**高阶函数：**把做计算的函数，直接作为参数  \n",
    "- 先把不同的函数独立出来，在做计算和打印的函数里，直接调用传入的函数\n",
    "- 作为参数的函数，是直接用函数名进行传入，不带()和参数，表示函数本身。\n",
    "    "
   ]
  },
  {
   "cell_type": "markdown",
   "id": "1f37cb40",
   "metadata": {},
   "source": [
    "**匿名函数 Lambda**\n",
    "- 传给高阶函数的函数并不常用时，采用匿名函数  \n",
    "不需要取名字\n",
    "- `高阶函数中(XX, lambda 变量名: 要返回的结果, XXXX)`  \n",
    "变量名：表示传给匿名函数的参数  \n",
    "给lambda函数加参数，在lambda 后 把不同的参数用逗号分隔开\n",
    "- 匿名函数也可以定义好后被直接调用，调用方式:  \n",
    "`(lambda num1, num2: num1 + num2)(2, 3)`  \n",
    "匿名函数用括号括住，后面 括号，括号里传入参数。    \n",
    "- 局限性：变量名后面的：只能有一个语句/表达式"
   ]
  }
 ],
 "metadata": {
  "kernelspec": {
   "display_name": "Python 3 (ipykernel)",
   "language": "python",
   "name": "python3"
  },
  "language_info": {
   "codemirror_mode": {
    "name": "ipython",
    "version": 3
   },
   "file_extension": ".py",
   "mimetype": "text/x-python",
   "name": "python",
   "nbconvert_exporter": "python",
   "pygments_lexer": "ipython3",
   "version": "3.11.3"
  }
 },
 "nbformat": 4,
 "nbformat_minor": 5
}
