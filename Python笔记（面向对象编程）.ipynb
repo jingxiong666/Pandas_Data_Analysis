{
 "cells": [
  {
   "cell_type": "markdown",
   "id": "61be78d7",
   "metadata": {},
   "source": [
    "# Python 笔记（面向对象编程）"
   ]
  },
  {
   "cell_type": "markdown",
   "id": "bdf9b19a",
   "metadata": {},
   "source": [
    "Object Oriented Programming"
   ]
  },
  {
   "cell_type": "markdown",
   "id": "348c6025",
   "metadata": {},
   "source": [
    "-  以对象为核心： \n",
    "先考虑各个对象有什么性质、能做什么事情  \n",
    "提取出这些性质，定义`类`  \n",
    "用`类`创建`对象`  \n",
    "- `类`和`对象`的关系：  \n",
    "`类`是创建`对象`的模板  \n",
    "`对象`是`类`的实例  \n",
    "`对象`拥有不同的`属性`，对应`对象`拥有的`性质`  \n",
    "- 另一能和对象绑定的是：`方法`  \n",
    "`方法`对应`对象`能做些什么  \n",
    "`方法`即为放在类里面的`函数`  \n",
    "`属性`即为放在类里面的`变量`     \n",
    "- 定义好`类`之后，可以通过`类`来创建`对象`，然后让各个对象去执行这些`方法`"
   ]
  },
  {
   "cell_type": "markdown",
   "id": "740602d1",
   "metadata": {},
   "source": [
    "- 面向对象的三个特性:  \n",
    "**封装**\n",
    "- 写类的人将内部实现细节隐藏起来，使用类的人只通过外部接口  \n",
    "**访问和使用**  \n",
    "- 接口：提供使用的方法  \n",
    "**继承**  \n",
    "- 面向对象编程允许创建有层次的类；即，子类 和  父类 来表示从属关系，子类会继承父类的属性和方法  \n",
    "**多态**  \n",
    "- 同样的接口，因为对象具体类的不同而有不同表现"
   ]
  },
  {
   "cell_type": "markdown",
   "id": "2788a943",
   "metadata": {},
   "source": [
    "**创建一个类**\n",
    "- class 类的名字:  \n",
    "接下来是一些定义类的代码\n",
    "接下来是一些.........\n",
    "        \n",
    "- 定义类名时，不用下划线，用大写开头（Pascal命名法）\n",
    "\n",
    "- 类的一个特殊方法： \n",
    "\n",
    "**构造函数**  \n",
    "- 主要作用：定义实例对象的属性，必须要被命名为`__init__()`\n",
    "- ()里放任意数量的参数，但第一个参数永远是被占用的，得用于表示对象自身`(self)`，\n",
    "- `self`作用是：能把属性的值绑定在实例对象上"
   ]
  },
  {
   "cell_type": "markdown",
   "id": "ff2e5999",
   "metadata": {},
   "source": [
    "**创建对象：**\n",
    "- 类名(参数) `__init__`方法就会被调用，并返回一个对象        \n",
    "- 获取对象属性：`print(对象.属性名)`"
   ]
  },
  {
   "cell_type": "markdown",
   "id": "f351efc7",
   "metadata": {},
   "source": [
    "**定义对象拥有的`方法`**\n",
    "- `方法`表示`对象`能做什么事情\n",
    "- 定义方法类似创建普通函数，但要写在`class`下面并缩进\n",
    "- `def 方法名(self)`  \n",
    "       接下来是一些定义方法的代码  \n",
    "       接下来是......  \n",
    "- 方法中self 的作用：\n",
    "1. 在方法里面去获取或修改和对象绑定的属性 \n",
    "- 要调用类方法：`对象.方法名(参数)`    "
   ]
  },
  {
   "cell_type": "markdown",
   "id": "ce4df3c0",
   "metadata": {},
   "source": [
    "**继承类**\n",
    "- `类名(父类名字)`\n",
    "- 在子类的`__init__`方法里面，写`super().__init__()`\n",
    "- `super()`会返回当前类的父类，即调用父类的构造函数"
   ]
  }
 ],
 "metadata": {
  "kernelspec": {
   "display_name": "Python 3 (ipykernel)",
   "language": "python",
   "name": "python3"
  },
  "language_info": {
   "codemirror_mode": {
    "name": "ipython",
    "version": 3
   },
   "file_extension": ".py",
   "mimetype": "text/x-python",
   "name": "python",
   "nbconvert_exporter": "python",
   "pygments_lexer": "ipython3",
   "version": "3.11.3"
  }
 },
 "nbformat": 4,
 "nbformat_minor": 5
}
